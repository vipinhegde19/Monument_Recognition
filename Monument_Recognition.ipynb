{
  "cells": [
    {
      "cell_type": "code",
      "execution_count": null,
      "metadata": {
        "colab": {
          "base_uri": "https://localhost:8080/"
        },
        "id": "d1nnEAJH1-EC",
        "outputId": "5537e91b-7917-483b-b7a4-0eb27ce165f2"
      },
      "outputs": [
        {
          "name": "stdout",
          "output_type": "stream",
          "text": [
            "Mounted at /content/drive\n"
          ]
        }
      ],
      "source": [
        "from google.colab import drive\n",
        "drive.mount('/content/drive')\n"
      ]
    },
    {
      "cell_type": "code",
      "execution_count": null,
      "metadata": {
        "id": "CtD0Kq0R2G0X"
      },
      "outputs": [],
      "source": [
        "import os\n",
        "\n",
        "# Path to your dataset folder\n",
        "dataset_path = '/content/drive/MyDrive/Indian-monuments'\n"
      ]
    },
    {
      "cell_type": "code",
      "execution_count": null,
      "metadata": {
        "id": "J46OOqke2--3"
      },
      "outputs": [],
      "source": [
        "import os\n",
        "import cv2\n",
        "import pathlib\n",
        "import numpy as np\n",
        "import pandas as pd\n",
        "import tensorflow as tf\n",
        "import matplotlib.pyplot as plt\n",
        "import matplotlib.image as mpimg\n",
        "import random\n",
        "from sklearn.metrics import confusion_matrix, ConfusionMatrixDisplay\n",
        "import seaborn as sns\n",
        "from tensorflow.keras.models import load_model"
      ]
    },
    {
      "cell_type": "code",
      "execution_count": null,
      "metadata": {
        "id": "VFZUhqhpgL8v"
      },
      "outputs": [],
      "source": []
    },
    {
      "cell_type": "code",
      "execution_count": null,
      "metadata": {
        "colab": {
          "base_uri": "https://localhost:8080/"
        },
        "id": "XlQRlbIv2_g8",
        "outputId": "18a3e640-5ceb-4c3d-9b13-6f47f8108563"
      },
      "outputs": [],
      "source": [
        "print(\"Num GPUs Available: \", len(tf.config.list_physical_devices('GPU')))\n",
        "\n",
        "path = \"/content/drive/MyDrive/Indian-monuments/images\"\n",
        "for dirpath, dirnames, filenames in os.walk(path):\n",
        "  print(f\"There are {len(dirnames)} directories and {len(filenames)} images in '{dirpath}'.\")"
      ]
    },
    {
      "cell_type": "code",
      "execution_count": null,
      "metadata": {
        "colab": {
          "base_uri": "https://localhost:8080/",
          "height": 36
        },
        "id": "eM4jRZoB2_j8",
        "outputId": "f04b616c-6098-46af-d41d-344b44ba2b29"
      },
      "outputs": [
        {
          "data": {
            "application/vnd.google.colaboratory.intrinsic+json": {
              "type": "string"
            },
            "text/plain": [
              "'/content/drive/MyDrive/Indian-monuments/images/train/'"
            ]
          },
          "execution_count": 5,
          "metadata": {},
          "output_type": "execute_result"
        }
      ],
      "source": [
        "\n",
        "train_dir =  path + \"/train/\"\n",
        "test_dir = path + \"/test/\"\n",
        "train_dir"
      ]
    },
    {
      "cell_type": "code",
      "execution_count": null,
      "metadata": {
        "colab": {
          "base_uri": "https://localhost:8080/"
        },
        "id": "rqcWmIFU2_m8",
        "outputId": "36ee86c7-101f-42de-91ae-f09de00b1e08"
      },
      "outputs": [
        {
          "data": {
            "text/plain": [
              "array(['Ajanta Caves', 'Charar-E- Sharif', 'Chhota_Imambara',\n",
              "       'Ellora Caves', 'Fatehpur Sikri', 'Gateway of India',\n",
              "       'Humayun_s Tomb', 'India gate pics', 'Khajuraho',\n",
              "       'Sun Temple Konark', 'alai_darwaza', 'alai_minar',\n",
              "       'basilica_of_bom_jesus', 'charminar', 'golden temple',\n",
              "       'hawa mahal pics', 'iron_pillar', 'jamali_kamali_tomb',\n",
              "       'lotus_temple', 'mysore_palace', 'qutub_minar', 'tajmahal',\n",
              "       'tanjavur temple', 'victoria memorial'], dtype='<U21')"
            ]
          },
          "execution_count": 6,
          "metadata": {},
          "output_type": "execute_result"
        }
      ],
      "source": [
        "\n",
        "data_dir = pathlib.Path(train_dir)\n",
        "class_names = np.array(sorted([item.name for item in data_dir.glob(\"*\")]))\n",
        "class_names"
      ]
    },
    {
      "cell_type": "code",
      "execution_count": null,
      "metadata": {
        "id": "vDeQzVOB2_p2"
      },
      "outputs": [],
      "source": [
        "\n",
        "def view_random_image(target_dir, target_class):\n",
        "    target_folder = target_dir  + target_class\n",
        "\n",
        "\n",
        "    random_image = random.sample(os.listdir(target_folder), 1)\n",
        "\n",
        "\n",
        "    img = mpimg.imread(target_folder + \"/\" + random_image[0])\n",
        "    plt.imshow(img)\n",
        "    plt.title(target_class)\n",
        "    plt.axis(\"off\");\n",
        "\n",
        "    print(f\"Image shape: {img.shape}\") # show the shape of the image\n",
        "\n",
        "    return img\n",
        "\n",
        "def plot_loss_curves(history):\n",
        "  \"\"\"\n",
        "  Returns separate loss curves for training and validation metrics.\n",
        "  \"\"\"\n",
        "  loss = history.history['loss']\n",
        "  val_loss = history.history['val_loss']\n",
        "\n",
        "  accuracy = history.history['accuracy']\n",
        "  val_accuracy = history.history['val_accuracy']\n",
        "\n",
        "  epochs = range(len(history.history['loss']))\n",
        "\n",
        "\n",
        "  plt.plot(epochs, loss, label='training_loss')\n",
        "  plt.plot(epochs, val_loss, label='val_loss')\n",
        "  plt.title('Loss')\n",
        "  plt.xlabel('Epochs')\n",
        "  plt.legend()\n",
        "\n",
        "  plt.figure()\n",
        "  plt.plot(epochs, accuracy, label='training_accuracy')\n",
        "  plt.plot(epochs, val_accuracy, label='val_accuracy')\n",
        "  plt.title('Accuracy')\n",
        "  plt.xlabel('Epochs')\n",
        "  plt.legend();"
      ]
    },
    {
      "cell_type": "code",
      "execution_count": null,
      "metadata": {
        "colab": {
          "base_uri": "https://localhost:8080/",
          "height": 407
        },
        "id": "L4diBRxe2_tB",
        "outputId": "b5235e26-ec11-4a4b-92b0-9cef43aa4345"
      },
      "outputs": [],
      "source": [
        "\n",
        "import random\n",
        "img = view_random_image(target_dir=train_dir, target_class=random.choice(class_names))"
      ]
    },
    {
      "cell_type": "code",
      "execution_count": null,
      "metadata": {
        "colab": {
          "base_uri": "https://localhost:8080/"
        },
        "id": "ncCxlIMT2_wi",
        "outputId": "20695eea-8e45-4bc1-f2f7-cf41dd97da8b"
      },
      "outputs": [
        {
          "name": "stdout",
          "output_type": "stream",
          "text": [
            "Found 3695 images belonging to 24 classes.\n",
            "Found 1049 images belonging to 24 classes.\n"
          ]
        }
      ],
      "source": [
        "from tensorflow.keras.preprocessing.image import ImageDataGenerator\n",
        "from tensorflow.keras.models import Sequential\n",
        "from tensorflow.keras.layers import Conv2D, MaxPool2D, Flatten, Dense\n",
        "\n",
        "\n",
        "train_datagen = ImageDataGenerator(rescale=1/255.)\n",
        "test_datagen = ImageDataGenerator(rescale=1/255.)\n",
        "\n",
        "\n",
        "train_data = train_datagen.flow_from_directory(train_dir,\n",
        "                                               target_size=(300, 300),\n",
        "                                               batch_size=32,\n",
        "                                               class_mode='categorical')\n",
        "\n",
        "test_data = train_datagen.flow_from_directory(test_dir,\n",
        "                                              target_size=(300, 300),\n",
        "                                              batch_size=32,\n",
        "                                              class_mode='categorical')"
      ]
    },
    {
      "cell_type": "code",
      "execution_count": null,
      "metadata": {
        "id": "VhPVpYBq2_z9"
      },
      "outputs": [],
      "source": [
        "\n",
        "model_10 = Sequential([\n",
        "  Conv2D(10, 3, activation='relu', input_shape=(300, 300, 3)),\n",
        "  MaxPool2D(),\n",
        "  Conv2D(10, 3, activation='relu'),\n",
        "  MaxPool2D(),\n",
        "  Flatten(),\n",
        "  Dense(24, activation='softmax')\n",
        "])"
      ]
    },
    {
      "cell_type": "code",
      "execution_count": null,
      "metadata": {
        "colab": {
          "base_uri": "https://localhost:8080/",
          "height": 407
        },
        "id": "5qUW3-uB5lMn",
        "outputId": "84c33531-989a-4d9b-ff6e-e6d4207a01e0"
      },
      "outputs": [],
      "source": [
        "model_10.compile(loss='categorical_crossentropy',\n",
        "                 optimizer=tf.keras.optimizers.Adam(),\n",
        "                 metrics=['accuracy'])\n",
        "\n",
        "history_10 = model_10.fit(train_data,\n",
        "                          epochs=50,\n",
        "                          steps_per_epoch=len(train_data),\n",
        "                          validation_data=test_data,\n",
        "                          validation_steps=len(test_data))"
      ]
    },
    {
      "cell_type": "code",
      "execution_count": null,
      "metadata": {
        "id": "7OS6BqWf5p8D"
      },
      "outputs": [],
      "source": [
        "\n",
        "def load_and_prep_image(filename, img_shape=300):\n",
        "  \"\"\"\n",
        "  Reads an image from filename, turns it into a tensor\n",
        "  and reshapes it to (img_shape, img_shape, colour_channel).\n",
        "  \"\"\"\n",
        "\n",
        "  img = tf.io.read_file(filename)\n",
        "  img = tf.image.decode_image(img, channels=3)\n",
        "  img = tf.image.resize(img, size = [img_shape, img_shape])\n",
        "  img = img/255.\n",
        "\n",
        "  return img\n",
        "\n",
        "def pred_and_plot(model, filename, class_names):\n",
        "  \"\"\"\n",
        "  Imports an image located at filename, makes a prediction on it with\n",
        "  a trained model and plots the image with the predicted class as the title.\n",
        "  \"\"\"\n",
        "\n",
        "  img = load_and_prep_image(filename)\n",
        "\n",
        "  pred = model.predict(tf.expand_dims(img, axis=0))\n",
        "\n",
        "  if len(pred[0]) > 1:\n",
        "    pred_class = class_names[pred.argmax()]\n",
        "  else:\n",
        "    pred_class = class_names[int(tf.round(pred)[0][0])]\n",
        "\n",
        "  plt.imshow(img)\n",
        "  plt.title(f\"Prediction: {pred_class}\")\n",
        "  plt.axis(False);"
      ]
    },
    {
      "cell_type": "code",
      "execution_count": null,
      "metadata": {
        "colab": {
          "base_uri": "https://localhost:8080/"
        },
        "id": "lWKZNJCO7gm9",
        "outputId": "d60ab8e1-57bb-481f-e55d-7187472327fe"
      },
      "outputs": [],
      "source": [
        "model_10 = load_model('/content/drive/MyDrive/Colab Notebooks/my_combined_model.h5')\n"
      ]
    },
    {
      "cell_type": "code",
      "execution_count": null,
      "metadata": {
        "colab": {
          "base_uri": "https://localhost:8080/",
          "height": 446
        },
        "id": "9vE10q8x72q_",
        "outputId": "69ee7433-ab93-49bf-ae50-ef0b7829cfaa"
      },
      "outputs": [],
      "source": [
        "pred_and_plot(model_10, \"/content/drive/MyDrive/Indian-monuments/images/test/Fatehpur Sikri/13.jpg\", class_names)\n"
      ]
    },
    {
      "cell_type": "code",
      "execution_count": null,
      "metadata": {
        "id": "aT_ussmEPXjn"
      },
      "outputs": [],
      "source": [
        "model_save_path = \"/content/drive/MyDrive/saved_models\"\n",
        "import os\n",
        "os.makedirs(model_save_path, exist_ok=True)"
      ]
    },
    {
      "cell_type": "code",
      "execution_count": null,
      "metadata": {
        "id": "KGhTU_6tQHbH"
      },
      "outputs": [],
      "source": [
        "#RESNET 50"
      ]
    },
    {
      "cell_type": "code",
      "execution_count": null,
      "metadata": {
        "id": "n4-vJnZ3oMM9"
      },
      "outputs": [],
      "source": [
        "import os\n",
        "import cv2\n",
        "import pathlib\n",
        "import numpy as np\n",
        "import pandas as pd\n",
        "import tensorflow as tf\n",
        "import matplotlib.pyplot as plt\n",
        "import matplotlib.image as mpimg\n",
        "import random\n",
        "from sklearn.metrics import confusion_matrix, ConfusionMatrixDisplay\n",
        "import seaborn as sns\n",
        "from tensorflow.keras.models import load_model\n",
        "from tensorflow.keras.preprocessing.image import ImageDataGenerator\n",
        "from tensorflow.keras.applications import ResNet50\n",
        "from tensorflow.keras.models import Model\n",
        "from tensorflow.keras.layers import Input, GlobalAveragePooling2D, Dense\n",
        "from tensorflow.keras.optimizers import Adam\n"
      ]
    },
    {
      "cell_type": "code",
      "execution_count": null,
      "metadata": {
        "colab": {
          "base_uri": "https://localhost:8080/"
        },
        "id": "DPLSwWzMx-51",
        "outputId": "d6eb17e8-4240-4156-c057-1ec46eac1222"
      },
      "outputs": [],
      "source": [
        "from tensorflow.keras.applications import ResNet50\n",
        "from tensorflow.keras.models import Model\n",
        "from tensorflow.keras.layers import Input, GlobalAveragePooling2D, Dense\n",
        "from tensorflow.keras.optimizers import Adam\n",
        "\n",
        "# Set up paths\n",
        "train_dir = \"/content/drive/MyDrive/Indian-monuments/images/train\"\n",
        "test_dir = \"/content/drive/MyDrive/Indian-monuments/images/test\"\n",
        "\n",
        "# Load class names\n",
        "data_dir = pathlib.Path(train_dir)\n",
        "class_names = np.array(sorted([item.name for item in data_dir.glob(\"*\")]))\n",
        "num_classes = len(class_names)\n",
        "\n",
        "# ImageDataGenerators (already normalized)\n",
        "train_datagen = ImageDataGenerator(rescale=1/255.)\n",
        "test_datagen = ImageDataGenerator(rescale=1/255.)\n",
        "\n",
        "train_data = train_datagen.flow_from_directory(train_dir,\n",
        "                                               target_size=(300, 300),\n",
        "                                               batch_size=32,\n",
        "                                               class_mode='categorical')\n",
        "\n",
        "test_data = test_datagen.flow_from_directory(test_dir,\n",
        "                                             target_size=(300, 300),\n",
        "                                             batch_size=32,\n",
        "                                             class_mode='categorical')\n",
        "\n",
        "# Load the ResNet50 base model\n",
        "base_model = ResNet50(include_top=False,\n",
        "                      weights='imagenet',\n",
        "                      input_shape=(300, 300, 3))\n",
        "\n",
        "# Freeze the base model\n",
        "base_model.trainable = False\n",
        "\n",
        "# Create the model\n",
        "inputs = Input(shape=(300, 300, 3))\n",
        "x = base_model(inputs, training=False)\n",
        "x = GlobalAveragePooling2D()(x)\n",
        "outputs = Dense(num_classes, activation='softmax')(x)\n",
        "\n",
        "resnet_model = Model(inputs, outputs)\n",
        "\n",
        "# Compile the model\n",
        "resnet_model.compile(loss='categorical_crossentropy',\n",
        "                     optimizer=Adam(),\n",
        "                     metrics=['accuracy'])\n",
        "\n",
        "# Train the model\n",
        "history_resnet = resnet_model.fit(train_data,\n",
        "                                  epochs=10,  # Start with 10 epochs, fine-tune later\n",
        "                                  validation_data=test_data)\n",
        "\n",
        "# Optional: Fine-tune the top layers of ResNet\n",
        "base_model.trainable = True\n",
        "resnet_model.compile(loss='categorical_crossentropy',\n",
        "                     optimizer=Adam(1e-5),  # Low learning rate for fine-tuning\n",
        "                     metrics=['accuracy'])\n",
        "\n",
        "history_finetuned = resnet_model.fit(train_data,\n",
        "                                     epochs=10,  # Further training\n",
        "                                     validation_data=test_data)\n"
      ]
    },
    {
      "cell_type": "code",
      "execution_count": null,
      "metadata": {
        "id": "g6EEX-5Sn85_"
      },
      "outputs": [],
      "source": [
        "def plot_loss_curves(history):\n",
        "    acc = history.history['accuracy']\n",
        "    val_acc = history.history['val_accuracy']\n",
        "    loss = history.history['loss']\n",
        "    val_loss = history.history['val_loss']\n",
        "    epochs = range(len(acc))\n",
        "\n",
        "    # Plot accuracy\n",
        "    plt.figure()\n",
        "    plt.plot(epochs, acc, label='Training Accuracy')\n",
        "    plt.plot(epochs, val_acc, label='Validation Accuracy')\n",
        "    plt.title('Accuracy')\n",
        "    plt.xlabel('Epochs')\n",
        "    plt.legend()\n",
        "\n",
        "    # Plot loss\n",
        "    plt.figure()\n",
        "    plt.plot(epochs, loss, label='Training Loss')\n",
        "    plt.plot(epochs, val_loss, label='Validation Loss')\n",
        "    plt.title('Loss')\n",
        "    plt.xlabel('Epochs')\n",
        "    plt.legend()\n"
      ]
    },
    {
      "cell_type": "code",
      "execution_count": null,
      "metadata": {
        "colab": {
          "base_uri": "https://localhost:8080/",
          "height": 927
        },
        "id": "6Biko36b8gj7",
        "outputId": "2e7c3e82-1de9-47a1-84ed-ac89bc0f51fc"
      },
      "outputs": [],
      "source": [
        "plot_loss_curves(history_finetuned)\n",
        "\n"
      ]
    },
    {
      "cell_type": "code",
      "execution_count": null,
      "metadata": {
        "colab": {
          "base_uri": "https://localhost:8080/"
        },
        "id": "3LrvcCj-79Yc",
        "outputId": "c8b0a4ef-87b5-4ee6-ebc3-b1fda2222ec6"
      },
      "outputs": [],
      "source": [
        "# Save model to Google Drive\n",
        "resnet_model.save('/content/drive/MyDrive/Colab Notebooks/my_resnet_model.h5')\n",
        "print(\"Model saved to Google Drive.\")\n",
        "\n"
      ]
    },
    {
      "cell_type": "code",
      "execution_count": null,
      "metadata": {
        "id": "E29fEUHqyLIW"
      },
      "outputs": [],
      "source": [
        "def load_and_prep_image(filename, img_shape=300):\n",
        "    img = tf.io.read_file(filename)\n",
        "    img = tf.image.decode_image(img, channels=3)\n",
        "    img = tf.image.resize(img, [img_shape, img_shape])\n",
        "    img = img / 255.\n",
        "    return img\n",
        "\n",
        "def pred_and_plot(model, filename, class_names):\n",
        "    img = load_and_prep_image(filename)\n",
        "    pred = model.predict(tf.expand_dims(img, axis=0))\n",
        "\n",
        "    if len(pred[0]) > 1:\n",
        "        pred_class = class_names[pred.argmax()]\n",
        "    else:\n",
        "        pred_class = class_names[int(tf.round(pred)[0][0])]\n",
        "\n",
        "    plt.imshow(img)\n",
        "    plt.title(f\"Prediction: {pred_class}\")\n",
        "    plt.axis(False)\n",
        "\n"
      ]
    },
    {
      "cell_type": "code",
      "execution_count": null,
      "metadata": {
        "colab": {
          "base_uri": "https://localhost:8080/",
          "height": 464
        },
        "id": "_JDkb4nfBaiO",
        "outputId": "78cc03d7-295d-431c-c072-0826d4325902"
      },
      "outputs": [],
      "source": [
        "from tensorflow.keras.models import load_model\n",
        "\n",
        "# Load the saved model\n",
        "model_loaded = load_model('/content/drive/MyDrive/Colab Notebooks/my_resnet_model.h5')\n",
        "\n",
        "# Test with an image\n",
        "test_image_path = \"/content/drive/MyDrive/Indian-monuments/images/test/Gateway of India/142.jpg\"\n",
        "pred_and_plot(model_loaded, test_image_path, class_names)\n"
      ]
    },
    {
      "cell_type": "code",
      "execution_count": null,
      "metadata": {
        "id": "iY50OcFEyPdW"
      },
      "outputs": [],
      "source": [
        "!ls \"/content/drive/MyDrive/Colab Notebooks\"\n"
      ]
    },
    {
      "cell_type": "code",
      "execution_count": null,
      "metadata": {
        "colab": {
          "base_uri": "https://localhost:8080/",
          "height": 73
        },
        "id": "ZpYh_AkC7xYb",
        "outputId": "67b3e7ce-f674-47ca-c682-c353cd0bffc5"
      },
      "outputs": [],
      "source": [
        "from google.colab import files\n",
        "\n",
        "# This opens a file dialog in Colab to upload from your computer\n",
        "uploaded = files.upload()\n"
      ]
    },
    {
      "cell_type": "code",
      "execution_count": null,
      "metadata": {
        "colab": {
          "base_uri": "https://localhost:8080/"
        },
        "id": "TFkrDjYDCXsF",
        "outputId": "d541a6c7-2dff-4a44-d605-e252205c8b91"
      },
      "outputs": [],
      "source": [
        "# Get the uploaded filename\n",
        "filename = list(uploaded.keys())[0]\n",
        "print(\"Uploaded file:\", filename)\n"
      ]
    },
    {
      "cell_type": "code",
      "execution_count": null,
      "metadata": {
        "colab": {
          "base_uri": "https://localhost:8080/",
          "height": 446
        },
        "id": "PAYTHncBCdXS",
        "outputId": "51bf5c25-6e5a-4c19-cf50-001df3c4daa0"
      },
      "outputs": [],
      "source": [
        "pred_and_plot(model_loaded, filename, class_names)\n"
      ]
    }
  ],
  "metadata": {
    "accelerator": "GPU",
    "colab": {
      "gpuType": "T4",
      "provenance": []
    },
    "kernelspec": {
      "display_name": "Python 3",
      "name": "python3"
    },
    "language_info": {
      "name": "python"
    }
  },
  "nbformat": 4,
  "nbformat_minor": 0
}
